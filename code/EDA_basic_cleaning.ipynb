{
 "cells": [
  {
   "cell_type": "markdown",
   "metadata": {},
   "source": [
    "# Amazon Recommender System\n",
    "![amazon](../images/amazon.png)\n",
    "\n",
    "This EDA will show basic cleaning for the two data and some summary.\n",
    "\n",
    "## Part 1: Review Data"
   ]
  },
  {
   "cell_type": "code",
   "execution_count": 3,
   "metadata": {},
   "outputs": [],
   "source": [
    "# import library\n",
    "import pandas as pd\n",
    "\n",
    "import warnings\n",
    "warnings.filterwarnings(action='ignore')\n",
    "\n",
    "import matplotlib.pyplot as plt\n",
    "%matplotlib inline\n",
    "\n",
    "from matplotlib.axes._axes import _log as matplotlib_axes_logger\n",
    "from matplotlib.ticker import FuncFormatter\n",
    "\n",
    "import visualizations as viz"
   ]
  },
  {
   "cell_type": "markdown",
   "metadata": {},
   "source": [
    "- The timestamp column is removed.\n",
    "- The data type for the rating column is updated to integers.\n",
    "- There are three columns: customer id, video game item id, rating values."
   ]
  },
  {
   "cell_type": "code",
   "execution_count": 4,
   "metadata": {},
   "outputs": [],
   "source": [
    "df = pd.read_csv('http://deepyeti.ucsd.edu/jianmo/amazon/categoryFilesSmall/Video_Games.csv', \n",
    "                 names=['item', 'user', 'rating', 'timestamp'])\n",
    "\n",
    "# changing column orders\n",
    "# drop unnecessary column\n",
    "df = df[['user', 'item', 'rating']]\n",
    "\n",
    "# update datatype for rating values\n",
    "df.rating = df.rating.astype('int32')"
   ]
  },
  {
   "cell_type": "code",
   "execution_count": 5,
   "metadata": {},
   "outputs": [
    {
     "name": "stdout",
     "output_type": "stream",
     "text": [
      "<class 'pandas.core.frame.DataFrame'>\n",
      "RangeIndex: 2565349 entries, 0 to 2565348\n",
      "Data columns (total 3 columns):\n",
      " #   Column  Dtype \n",
      "---  ------  ----- \n",
      " 0   user    object\n",
      " 1   item    object\n",
      " 2   rating  int32 \n",
      "dtypes: int32(1), object(2)\n",
      "memory usage: 48.9+ MB\n"
     ]
    }
   ],
   "source": [
    "# checking data types\n",
    "df.info()"
   ]
  },
  {
   "cell_type": "code",
   "execution_count": 6,
   "metadata": {},
   "outputs": [
    {
     "data": {
      "text/html": [
       "<div>\n",
       "<style scoped>\n",
       "    .dataframe tbody tr th:only-of-type {\n",
       "        vertical-align: middle;\n",
       "    }\n",
       "\n",
       "    .dataframe tbody tr th {\n",
       "        vertical-align: top;\n",
       "    }\n",
       "\n",
       "    .dataframe thead th {\n",
       "        text-align: right;\n",
       "    }\n",
       "</style>\n",
       "<table border=\"1\" class=\"dataframe\">\n",
       "  <thead>\n",
       "    <tr style=\"text-align: right;\">\n",
       "      <th></th>\n",
       "      <th>user</th>\n",
       "      <th>item</th>\n",
       "      <th>rating</th>\n",
       "    </tr>\n",
       "  </thead>\n",
       "  <tbody>\n",
       "    <tr>\n",
       "      <th>0</th>\n",
       "      <td>A21ROB4YDOZA5P</td>\n",
       "      <td>0439381673</td>\n",
       "      <td>1</td>\n",
       "    </tr>\n",
       "    <tr>\n",
       "      <th>1</th>\n",
       "      <td>A3TNZ2Q5E7HTHD</td>\n",
       "      <td>0439381673</td>\n",
       "      <td>3</td>\n",
       "    </tr>\n",
       "    <tr>\n",
       "      <th>2</th>\n",
       "      <td>A1OKRM3QFEATQO</td>\n",
       "      <td>0439381673</td>\n",
       "      <td>4</td>\n",
       "    </tr>\n",
       "    <tr>\n",
       "      <th>3</th>\n",
       "      <td>A2XO1JFCNEYV3T</td>\n",
       "      <td>0439381673</td>\n",
       "      <td>1</td>\n",
       "    </tr>\n",
       "    <tr>\n",
       "      <th>4</th>\n",
       "      <td>A19WLPIRHD15TH</td>\n",
       "      <td>0439381673</td>\n",
       "      <td>4</td>\n",
       "    </tr>\n",
       "  </tbody>\n",
       "</table>\n",
       "</div>"
      ],
      "text/plain": [
       "             user        item  rating\n",
       "0  A21ROB4YDOZA5P  0439381673       1\n",
       "1  A3TNZ2Q5E7HTHD  0439381673       3\n",
       "2  A1OKRM3QFEATQO  0439381673       4\n",
       "3  A2XO1JFCNEYV3T  0439381673       1\n",
       "4  A19WLPIRHD15TH  0439381673       4"
      ]
     },
     "execution_count": 6,
     "metadata": {},
     "output_type": "execute_result"
    }
   ],
   "source": [
    "# print the first 5 rows\n",
    "df.head()"
   ]
  },
  {
   "cell_type": "markdown",
   "metadata": {},
   "source": [
    "- Every rating value is integers from 1 to 5."
   ]
  },
  {
   "cell_type": "code",
   "execution_count": 7,
   "metadata": {},
   "outputs": [
    {
     "data": {
      "text/plain": [
       "5    1487366\n",
       "4     412413\n",
       "1     311891\n",
       "3     212346\n",
       "2     141333\n",
       "Name: rating, dtype: int64"
      ]
     },
     "execution_count": 7,
     "metadata": {},
     "output_type": "execute_result"
    }
   ],
   "source": [
    "df.rating.value_counts()"
   ]
  },
  {
   "cell_type": "markdown",
   "metadata": {},
   "source": [
    "- There is no missing values."
   ]
  },
  {
   "cell_type": "code",
   "execution_count": 8,
   "metadata": {},
   "outputs": [
    {
     "data": {
      "text/plain": [
       "user      0\n",
       "item      0\n",
       "rating    0\n",
       "dtype: int64"
      ]
     },
     "execution_count": 8,
     "metadata": {},
     "output_type": "execute_result"
    }
   ],
   "source": [
    "df.isna().sum()"
   ]
  },
  {
   "cell_type": "markdown",
   "metadata": {},
   "source": [
    "- More than half of the ratings are 5."
   ]
  },
  {
   "cell_type": "code",
   "execution_count": 9,
   "metadata": {},
   "outputs": [
    {
     "data": {
      "image/png": "[encoded data removed]",
      "text/plain": [
       "<Figure size 504x576 with 1 Axes>"
      ]
     },
     "metadata": {
      "needs_background": "light"
     },
     "output_type": "display_data"
    }
   ],
   "source": [
    "review_dist = pd.DataFrame(df.rating.value_counts(normalize = True)).reset_index().sort_values(by = 'index')\n",
    "review_dist.rename(columns = {'index': 'review_rating', 'rating':'percentage'}, inplace = True)\n",
    "\n",
    "# show rating distribution\n",
    "viz.result_1(review_dist)"
   ]
  },
  {
   "cell_type": "markdown",
   "metadata": {},
   "source": [
    "## Part 2: Metadata\n",
    "\n",
    "This data contains information on video games. The selected information is the brand name, category, game item id, and game title."
   ]
  },
  {
   "cell_type": "code",
   "execution_count": 10,
   "metadata": {},
   "outputs": [],
   "source": [
    "import gzip\n",
    "import json\n",
    "\n",
    "# reading json file line by line\n",
    "df_meta = pd.read_json('http://deepyeti.ucsd.edu/jianmo/amazon/metaFiles2/meta_Video_Games.json.gz', \n",
    "                    lines=True)\n",
    "\n",
    "# select relevant columns only\n",
    "df_meta_basic = df_meta[['title', 'asin', 'category', 'brand']]\n",
    "\n",
    "# formatting brand names\n",
    "df_meta_basic['brand'] = df_meta_basic['brand'].str.replace(\"\\n\", \"\")\n",
    "df_meta_basic['brand'] = df_meta_basic['brand'].str.replace(\"by\", \"\")\n",
    "df_meta_basic['brand'] = df_meta_basic['brand'].str.replace(\" \", \"\")\n",
    "df_meta_basic['brand'] = df_meta_basic['brand'].str.lower()"
   ]
  },
  {
   "cell_type": "markdown",
   "metadata": {},
   "source": [
    "- Duplicate rows are checked and then removed."
   ]
  },
  {
   "cell_type": "code",
   "execution_count": 12,
   "metadata": {},
   "outputs": [
    {
     "data": {
      "text/plain": [
       "False    71911\n",
       "True     12908\n",
       "dtype: int64"
      ]
     },
     "execution_count": 12,
     "metadata": {},
     "output_type": "execute_result"
    }
   ],
   "source": [
    "# checking duplicates\n",
    "df_meta_basic.duplicated(subset=['asin']).value_counts()"
   ]
  },
  {
   "cell_type": "code",
   "execution_count": 13,
   "metadata": {},
   "outputs": [],
   "source": [
    "# drop duplicates\n",
    "df_meta_basic.drop_duplicates(subset=['asin'], inplace = True)"
   ]
  },
  {
   "cell_type": "code",
   "execution_count": 15,
   "metadata": {},
   "outputs": [
    {
     "data": {
      "text/html": [
       "<div>\n",
       "<style scoped>\n",
       "    .dataframe tbody tr th:only-of-type {\n",
       "        vertical-align: middle;\n",
       "    }\n",
       "\n",
       "    .dataframe tbody tr th {\n",
       "        vertical-align: top;\n",
       "    }\n",
       "\n",
       "    .dataframe thead th {\n",
       "        text-align: right;\n",
       "    }\n",
       "</style>\n",
       "<table border=\"1\" class=\"dataframe\">\n",
       "  <thead>\n",
       "    <tr style=\"text-align: right;\">\n",
       "      <th></th>\n",
       "      <th>title</th>\n",
       "      <th>asin</th>\n",
       "      <th>category</th>\n",
       "      <th>brand</th>\n",
       "    </tr>\n",
       "  </thead>\n",
       "  <tbody>\n",
       "    <tr>\n",
       "      <th>0</th>\n",
       "      <td>Reversi Sensory Challenger</td>\n",
       "      <td>0042000742</td>\n",
       "      <td>[Video Games, PC, Games]</td>\n",
       "      <td>fidelityelectronics</td>\n",
       "    </tr>\n",
       "    <tr>\n",
       "      <th>1</th>\n",
       "      <td>Medal of Honor: Warfighter - Includes Battlefi...</td>\n",
       "      <td>0078764343</td>\n",
       "      <td>[Video Games, Xbox 360, Games, &lt;/span&gt;&lt;/span&gt;&lt;...</td>\n",
       "      <td>eagames</td>\n",
       "    </tr>\n",
       "    <tr>\n",
       "      <th>2</th>\n",
       "      <td>street fighter 2 II turbo super nintendo snes ...</td>\n",
       "      <td>0276425316</td>\n",
       "      <td>[Video Games, Retro Gaming &amp; Microconsoles, Su...</td>\n",
       "      <td>nintendo</td>\n",
       "    </tr>\n",
       "    <tr>\n",
       "      <th>3</th>\n",
       "      <td>Xbox 360 MAS STICK</td>\n",
       "      <td>0324411812</td>\n",
       "      <td>[Video Games, Xbox 360, Accessories, Controlle...</td>\n",
       "      <td>massystems</td>\n",
       "    </tr>\n",
       "    <tr>\n",
       "      <th>4</th>\n",
       "      <td>Phonics Alive! 3: The Speller</td>\n",
       "      <td>0439335310</td>\n",
       "      <td>[Video Games, PC, Games, &lt;/span&gt;&lt;/span&gt;&lt;/span&gt;...</td>\n",
       "      <td>advancedsoftwarepty.ltd.</td>\n",
       "    </tr>\n",
       "    <tr>\n",
       "      <th>...</th>\n",
       "      <td>...</td>\n",
       "      <td>...</td>\n",
       "      <td>...</td>\n",
       "      <td>...</td>\n",
       "    </tr>\n",
       "    <tr>\n",
       "      <th>84814</th>\n",
       "      <td>Lego Star Wars: The Force Awakens - PS Vita [D...</td>\n",
       "      <td>B01HJ1521Y</td>\n",
       "      <td>[Video Games, PlayStation Vita, Digital Games ...</td>\n",
       "      <td>warnerbros.</td>\n",
       "    </tr>\n",
       "    <tr>\n",
       "      <th>84815</th>\n",
       "      <td>Lego Star Wars: The Force Awakens  Season Pass...</td>\n",
       "      <td>B01HJ14TTA</td>\n",
       "      <td>[Video Games, PlayStation 4, Digital Games &amp; D...</td>\n",
       "      <td>warnerbros.</td>\n",
       "    </tr>\n",
       "    <tr>\n",
       "      <th>84816</th>\n",
       "      <td>The Technomancer - PS4 [Digital Code]</td>\n",
       "      <td>B01HJ14OT0</td>\n",
       "      <td>[Video Games, PlayStation 4, Digital Games &amp; D...</td>\n",
       "      <td>focushomeinteractive</td>\n",
       "    </tr>\n",
       "    <tr>\n",
       "      <th>84817</th>\n",
       "      <td>Repair T8 T6 Tools for XBOX One Xbox 360, YTTL...</td>\n",
       "      <td>B01HJC33WS</td>\n",
       "      <td>[Video Games, Xbox 360, Accessories, &lt;/span&gt;&lt;/...</td>\n",
       "      <td>yttl</td>\n",
       "    </tr>\n",
       "    <tr>\n",
       "      <th>84818</th>\n",
       "      <td>Zelotes 4000 DPI Programmable Gaming Mouse for...</td>\n",
       "      <td>B01HJEBIAA</td>\n",
       "      <td>[Video Games, PC, Accessories, Gaming Mice]</td>\n",
       "      <td>zelotes</td>\n",
       "    </tr>\n",
       "  </tbody>\n",
       "</table>\n",
       "<p>71911 rows × 4 columns</p>\n",
       "</div>"
      ],
      "text/plain": [
       "                                                   title        asin  \\\n",
       "0                             Reversi Sensory Challenger  0042000742   \n",
       "1      Medal of Honor: Warfighter - Includes Battlefi...  0078764343   \n",
       "2      street fighter 2 II turbo super nintendo snes ...  0276425316   \n",
       "3                                     Xbox 360 MAS STICK  0324411812   \n",
       "4                          Phonics Alive! 3: The Speller  0439335310   \n",
       "...                                                  ...         ...   \n",
       "84814  Lego Star Wars: The Force Awakens - PS Vita [D...  B01HJ1521Y   \n",
       "84815  Lego Star Wars: The Force Awakens  Season Pass...  B01HJ14TTA   \n",
       "84816              The Technomancer - PS4 [Digital Code]  B01HJ14OT0   \n",
       "84817  Repair T8 T6 Tools for XBOX One Xbox 360, YTTL...  B01HJC33WS   \n",
       "84818  Zelotes 4000 DPI Programmable Gaming Mouse for...  B01HJEBIAA   \n",
       "\n",
       "                                                category  \\\n",
       "0                               [Video Games, PC, Games]   \n",
       "1      [Video Games, Xbox 360, Games, </span></span><...   \n",
       "2      [Video Games, Retro Gaming & Microconsoles, Su...   \n",
       "3      [Video Games, Xbox 360, Accessories, Controlle...   \n",
       "4      [Video Games, PC, Games, </span></span></span>...   \n",
       "...                                                  ...   \n",
       "84814  [Video Games, PlayStation Vita, Digital Games ...   \n",
       "84815  [Video Games, PlayStation 4, Digital Games & D...   \n",
       "84816  [Video Games, PlayStation 4, Digital Games & D...   \n",
       "84817  [Video Games, Xbox 360, Accessories, </span></...   \n",
       "84818        [Video Games, PC, Accessories, Gaming Mice]   \n",
       "\n",
       "                          brand  \n",
       "0           fidelityelectronics  \n",
       "1                       eagames  \n",
       "2                      nintendo  \n",
       "3                    massystems  \n",
       "4      advancedsoftwarepty.ltd.  \n",
       "...                         ...  \n",
       "84814               warnerbros.  \n",
       "84815               warnerbros.  \n",
       "84816      focushomeinteractive  \n",
       "84817                      yttl  \n",
       "84818                   zelotes  \n",
       "\n",
       "[71911 rows x 4 columns]"
      ]
     },
     "execution_count": 15,
     "metadata": {},
     "output_type": "execute_result"
    }
   ],
   "source": [
    "df_meta_basic"
   ]
  },
  {
   "cell_type": "markdown",
   "metadata": {},
   "source": [
    "## Part 3: Combine Multiple Information\n",
    "Information from review data will be added to the metadata, and then many columns of categories will be also added to the metadata.\n",
    "\n",
    "#### Adding Mean of Ratings\n",
    "Mean of ratings from review data will be calculated and then assigined to each video game in the metadata."
   ]
  },
  {
   "cell_type": "code",
   "execution_count": 14,
   "metadata": {},
   "outputs": [
    {
     "data": {
      "text/html": [
       "<div>\n",
       "<style scoped>\n",
       "    .dataframe tbody tr th:only-of-type {\n",
       "        vertical-align: middle;\n",
       "    }\n",
       "\n",
       "    .dataframe tbody tr th {\n",
       "        vertical-align: top;\n",
       "    }\n",
       "\n",
       "    .dataframe thead th {\n",
       "        text-align: right;\n",
       "    }\n",
       "</style>\n",
       "<table border=\"1\" class=\"dataframe\">\n",
       "  <thead>\n",
       "    <tr style=\"text-align: right;\">\n",
       "      <th></th>\n",
       "      <th>title</th>\n",
       "      <th>asin</th>\n",
       "      <th>category</th>\n",
       "      <th>brand</th>\n",
       "      <th>avg_rating</th>\n",
       "    </tr>\n",
       "  </thead>\n",
       "  <tbody>\n",
       "    <tr>\n",
       "      <th>0</th>\n",
       "      <td>Reversi Sensory Challenger</td>\n",
       "      <td>0042000742</td>\n",
       "      <td>[Video Games, PC, Games]</td>\n",
       "      <td>fidelityelectronics</td>\n",
       "      <td>5.000000</td>\n",
       "    </tr>\n",
       "    <tr>\n",
       "      <th>1</th>\n",
       "      <td>Medal of Honor: Warfighter - Includes Battlefi...</td>\n",
       "      <td>0078764343</td>\n",
       "      <td>[Video Games, Xbox 360, Games, &lt;/span&gt;&lt;/span&gt;&lt;...</td>\n",
       "      <td>eagames</td>\n",
       "      <td>4.750000</td>\n",
       "    </tr>\n",
       "    <tr>\n",
       "      <th>2</th>\n",
       "      <td>street fighter 2 II turbo super nintendo snes ...</td>\n",
       "      <td>0276425316</td>\n",
       "      <td>[Video Games, Retro Gaming &amp; Microconsoles, Su...</td>\n",
       "      <td>nintendo</td>\n",
       "      <td>5.000000</td>\n",
       "    </tr>\n",
       "    <tr>\n",
       "      <th>3</th>\n",
       "      <td>Xbox 360 MAS STICK</td>\n",
       "      <td>0324411812</td>\n",
       "      <td>[Video Games, Xbox 360, Accessories, Controlle...</td>\n",
       "      <td>massystems</td>\n",
       "      <td>1.000000</td>\n",
       "    </tr>\n",
       "    <tr>\n",
       "      <th>4</th>\n",
       "      <td>Phonics Alive! 3: The Speller</td>\n",
       "      <td>0439335310</td>\n",
       "      <td>[Video Games, PC, Games, &lt;/span&gt;&lt;/span&gt;&lt;/span&gt;...</td>\n",
       "      <td>advancedsoftwarepty.ltd.</td>\n",
       "      <td>3.000000</td>\n",
       "    </tr>\n",
       "    <tr>\n",
       "      <th>...</th>\n",
       "      <td>...</td>\n",
       "      <td>...</td>\n",
       "      <td>...</td>\n",
       "      <td>...</td>\n",
       "      <td>...</td>\n",
       "    </tr>\n",
       "    <tr>\n",
       "      <th>71904</th>\n",
       "      <td>Lego Star Wars: The Force Awakens - PS Vita [D...</td>\n",
       "      <td>B01HJ1521Y</td>\n",
       "      <td>[Video Games, PlayStation Vita, Digital Games ...</td>\n",
       "      <td>warnerbros.</td>\n",
       "      <td>5.000000</td>\n",
       "    </tr>\n",
       "    <tr>\n",
       "      <th>71905</th>\n",
       "      <td>Lego Star Wars: The Force Awakens  Season Pass...</td>\n",
       "      <td>B01HJ14TTA</td>\n",
       "      <td>[Video Games, PlayStation 4, Digital Games &amp; D...</td>\n",
       "      <td>warnerbros.</td>\n",
       "      <td>3.000000</td>\n",
       "    </tr>\n",
       "    <tr>\n",
       "      <th>71906</th>\n",
       "      <td>The Technomancer - PS4 [Digital Code]</td>\n",
       "      <td>B01HJ14OT0</td>\n",
       "      <td>[Video Games, PlayStation 4, Digital Games &amp; D...</td>\n",
       "      <td>focushomeinteractive</td>\n",
       "      <td>5.000000</td>\n",
       "    </tr>\n",
       "    <tr>\n",
       "      <th>71907</th>\n",
       "      <td>Repair T8 T6 Tools for XBOX One Xbox 360, YTTL...</td>\n",
       "      <td>B01HJC33WS</td>\n",
       "      <td>[Video Games, Xbox 360, Accessories, &lt;/span&gt;&lt;/...</td>\n",
       "      <td>yttl</td>\n",
       "      <td>4.590909</td>\n",
       "    </tr>\n",
       "    <tr>\n",
       "      <th>71908</th>\n",
       "      <td>Zelotes 4000 DPI Programmable Gaming Mouse for...</td>\n",
       "      <td>B01HJEBIAA</td>\n",
       "      <td>[Video Games, PC, Accessories, Gaming Mice]</td>\n",
       "      <td>zelotes</td>\n",
       "      <td>4.233333</td>\n",
       "    </tr>\n",
       "  </tbody>\n",
       "</table>\n",
       "<p>71909 rows × 5 columns</p>\n",
       "</div>"
      ],
      "text/plain": [
       "                                                   title        asin  \\\n",
       "0                             Reversi Sensory Challenger  0042000742   \n",
       "1      Medal of Honor: Warfighter - Includes Battlefi...  0078764343   \n",
       "2      street fighter 2 II turbo super nintendo snes ...  0276425316   \n",
       "3                                     Xbox 360 MAS STICK  0324411812   \n",
       "4                          Phonics Alive! 3: The Speller  0439335310   \n",
       "...                                                  ...         ...   \n",
       "71904  Lego Star Wars: The Force Awakens - PS Vita [D...  B01HJ1521Y   \n",
       "71905  Lego Star Wars: The Force Awakens  Season Pass...  B01HJ14TTA   \n",
       "71906              The Technomancer - PS4 [Digital Code]  B01HJ14OT0   \n",
       "71907  Repair T8 T6 Tools for XBOX One Xbox 360, YTTL...  B01HJC33WS   \n",
       "71908  Zelotes 4000 DPI Programmable Gaming Mouse for...  B01HJEBIAA   \n",
       "\n",
       "                                                category  \\\n",
       "0                               [Video Games, PC, Games]   \n",
       "1      [Video Games, Xbox 360, Games, </span></span><...   \n",
       "2      [Video Games, Retro Gaming & Microconsoles, Su...   \n",
       "3      [Video Games, Xbox 360, Accessories, Controlle...   \n",
       "4      [Video Games, PC, Games, </span></span></span>...   \n",
       "...                                                  ...   \n",
       "71904  [Video Games, PlayStation Vita, Digital Games ...   \n",
       "71905  [Video Games, PlayStation 4, Digital Games & D...   \n",
       "71906  [Video Games, PlayStation 4, Digital Games & D...   \n",
       "71907  [Video Games, Xbox 360, Accessories, </span></...   \n",
       "71908        [Video Games, PC, Accessories, Gaming Mice]   \n",
       "\n",
       "                          brand  avg_rating  \n",
       "0           fidelityelectronics    5.000000  \n",
       "1                       eagames    4.750000  \n",
       "2                      nintendo    5.000000  \n",
       "3                    massystems    1.000000  \n",
       "4      advancedsoftwarepty.ltd.    3.000000  \n",
       "...                         ...         ...  \n",
       "71904               warnerbros.    5.000000  \n",
       "71905               warnerbros.    3.000000  \n",
       "71906      focushomeinteractive    5.000000  \n",
       "71907                      yttl    4.590909  \n",
       "71908                   zelotes    4.233333  \n",
       "\n",
       "[71909 rows x 5 columns]"
      ]
     },
     "execution_count": 14,
     "metadata": {},
     "output_type": "execute_result"
    }
   ],
   "source": [
    "# Calculate mean ratings for each item\n",
    "rating_avg_df = df.groupby('item').mean().reset_index()\n",
    "\n",
    "# rename column names for easier merging with meta data\n",
    "rating_avg_df.rename(columns = {'rating' : 'avg_rating', \n",
    "                                'item' : 'asin'}, \n",
    "                     inplace = True)\n",
    "\n",
    "# assign mean ratings to each item using merging\n",
    "df_meta_final = pd.merge(df_meta_basic, rating_avg_df, on='asin', how='inner')\n",
    "\n",
    "df_meta_final"
   ]
  },
  {
   "cell_type": "markdown",
   "metadata": {},
   "source": [
    "### Adding Columns for Console Names and Brand Names\n",
    "This step will try to gain console information and brand names. Each console name or brand name will be added as a column name. This will tell us if a game item belongs to a console name or a brand name."
   ]
  },
  {
   "cell_type": "code",
   "execution_count": 16,
   "metadata": {},
   "outputs": [],
   "source": [
    "# a function to get console information from category column\n",
    "# this will try to search console name by looping category values\n",
    "def find_cat(df, cat):\n",
    "    length = []\n",
    "    for i in df.index:\n",
    "        text_list = df.iloc[i].category\n",
    "        length.append(len([t for t in text_list if cat in t.replace(\" \", \"\").lower()]))\n",
    "    return pd.DataFrame(length, columns = [cat])"
   ]
  },
  {
   "cell_type": "code",
   "execution_count": 17,
   "metadata": {},
   "outputs": [],
   "source": [
    "# Console names to be searched\n",
    "console = ['pc', 'xbox', 'xbox360', 'xboxone', \n",
    " 'playstation', 'playstation2', 'playstation3', 'playstation4', \n",
    " 'cube', 'wii', 'switch', 'nintendo',\n",
    " 'accessories', \n",
    "]\n",
    "\n",
    "# Select 30 brand names with the highest counts\n",
    "# control the number of columns\n",
    "brand = df_meta_final.brand.value_counts().head(30).index\n",
    "\n",
    "# search each console name and add each to the metadata as a new column\n",
    "for c in console:\n",
    "    example = find_cat(df_meta_final, c)\n",
    "    # If a name is found multiplel times, set it to 1\n",
    "    example[c] = example[c].map(lambda x: 1 if x >= 1 else 0)\n",
    "    df_meta_final = pd.concat([df_meta_final, example], axis = 1)\n",
    "\n",
    "# search each brand name and add each to the metadata as a new column\n",
    "for b in brand:\n",
    "    df_meta_final[b] = df_meta_final.brand.map(lambda x: 1 if x == b else 0)\n",
    "    \n",
    "# drop original columns\n",
    "df_meta_final.drop(['category', 'brand'], axis = 1, inplace = True)"
   ]
  },
  {
   "cell_type": "markdown",
   "metadata": {},
   "source": [
    "- The example rows would not show all columns. Instead, the column names are displayed below."
   ]
  },
  {
   "cell_type": "code",
   "execution_count": 18,
   "metadata": {},
   "outputs": [
    {
     "data": {
      "text/plain": [
       "Index(['title', 'asin', 'avg_rating', 'pc', 'xbox', 'xbox360', 'xboxone',\n",
       "       'playstation', 'playstation2', 'playstation3', 'playstation4', 'cube',\n",
       "       'wii', 'switch', 'nintendo', 'accessories', '', 'electronicarts',\n",
       "       'activision', 'sony', 'ubisoft', 'sega', 'microsoft', 'atari', 'thq',\n",
       "       'konami', 'capcom', 'squareenix', 'madcatz', 'bandai', '2k', 'encore',\n",
       "       'generic', 'dreamgear', 'intec', 'vivamedia', 'vivendiuniversal',\n",
       "       'wbgames', 'skinit', 'unknown', 'wraptorskinz', 'modfreakz', 'midway',\n",
       "       'hori'],\n",
       "      dtype='object')"
      ]
     },
     "execution_count": 18,
     "metadata": {},
     "output_type": "execute_result"
    }
   ],
   "source": [
    "df_meta_final.columns"
   ]
  },
  {
   "cell_type": "code",
   "execution_count": null,
   "metadata": {},
   "outputs": [],
   "source": []
  }
 ],
 "metadata": {
  "kernelspec": {
   "display_name": "Python (learn-env)",
   "language": "python",
   "name": "learn-env"
  },
  "language_info": {
   "codemirror_mode": {
    "name": "ipython",
    "version": 3
   },
   "file_extension": ".py",
   "mimetype": "text/x-python",
   "name": "python",
   "nbconvert_exporter": "python",
   "pygments_lexer": "ipython3",
   "version": "3.8.5"
  }
 },
 "nbformat": 4,
 "nbformat_minor": 4
}
