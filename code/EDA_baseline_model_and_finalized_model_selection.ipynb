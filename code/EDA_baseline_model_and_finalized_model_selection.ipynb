{
 "cells": [
  {
   "cell_type": "markdown",
   "metadata": {},
   "source": [
    "# Amazon Recommender System\n",
    "![amazon](../images/amazon.png)\n",
    "\n",
    "This EDA will explore how a model is finalized for the analysis."
   ]
  },
  {
   "cell_type": "code",
   "execution_count": 1,
   "metadata": {},
   "outputs": [],
   "source": [
    "# import library\n",
    "import pandas as pd\n",
    "\n",
    "import warnings\n",
    "warnings.filterwarnings(action='ignore')"
   ]
  },
  {
   "cell_type": "code",
   "execution_count": 3,
   "metadata": {},
   "outputs": [],
   "source": [
    "df = pd.read_csv('http://deepyeti.ucsd.edu/jianmo/amazon/categoryFilesSmall/Video_Games.csv', \n",
    "                 names=['item', 'user', 'rating', 'timestamp'])"
   ]
  },
  {
   "cell_type": "code",
   "execution_count": 56,
   "metadata": {},
   "outputs": [],
   "source": [
    "df = df[['user', 'item', 'rating']]"
   ]
  },
  {
   "cell_type": "code",
   "execution_count": 60,
   "metadata": {},
   "outputs": [],
   "source": [
    "df.rating = df.rating.astype('int32')"
   ]
  },
  {
   "cell_type": "markdown",
   "metadata": {},
   "source": [
    "Datasets for X and y are separated. Then, train-test split has been done with test size = 0.33."
   ]
  },
  {
   "cell_type": "code",
   "execution_count": 65,
   "metadata": {},
   "outputs": [],
   "source": [
    "X = df[df.columns[:2]]\n",
    "y = df[df.columns[-1]]\n",
    "\n",
    "from sklearn.model_selection import train_test_split\n",
    "X_train, X_test, y_train, y_test = train_test_split(X, y, test_size=0.33, random_state=0)"
   ]
  },
  {
   "cell_type": "code",
   "execution_count": 66,
   "metadata": {},
   "outputs": [],
   "source": [
    "from surprise import Reader, Dataset\n",
    "# read in values as Surprise dataset \n",
    "reader = Reader()\n",
    "# train data\n",
    "# Loading the data again for the Surprise library\n",
    "train = Dataset.load_from_df(pd.concat([X_train, y_train], axis = 1), reader)\n",
    "# test data\n",
    "# Loading the data again for the Surprise library\n",
    "test = Dataset.load_from_df(pd.concat([X_test, y_test], axis = 1), reader)\n",
    "# whole data for comparison\n",
    "data = Dataset.load_from_df(df, reader)"
   ]
  },
  {
   "cell_type": "code",
   "execution_count": 70,
   "metadata": {},
   "outputs": [
    {
     "name": "stdout",
     "output_type": "stream",
     "text": [
      "Number of users:  1540618 \n",
      "\n",
      "Number of items:  71982\n"
     ]
    }
   ],
   "source": [
    "dataset = data.build_full_trainset()\n",
    "print('Number of users: ', dataset.n_users, '\\n')\n",
    "print('Number of items: ', dataset.n_items)"
   ]
  },
  {
   "cell_type": "code",
   "execution_count": 71,
   "metadata": {},
   "outputs": [
    {
     "name": "stdout",
     "output_type": "stream",
     "text": [
      "Number of users:  1139782 \n",
      "\n",
      "Number of items:  65479\n"
     ]
    }
   ],
   "source": [
    "train_set = train.build_full_trainset()\n",
    "print('Number of users: ', train_set.n_users, '\\n')\n",
    "print('Number of items: ', train_set.n_items)"
   ]
  },
  {
   "cell_type": "code",
   "execution_count": 72,
   "metadata": {},
   "outputs": [
    {
     "name": "stdout",
     "output_type": "stream",
     "text": [
      "Number of users:  644499 \n",
      "\n",
      "Number of items:  53651\n"
     ]
    }
   ],
   "source": [
    "test_set = test.build_full_trainset()\n",
    "print('Number of users: ', test_set.n_users, '\\n')\n",
    "print('Number of items: ', test_set.n_items)"
   ]
  },
  {
   "cell_type": "code",
   "execution_count": 73,
   "metadata": {},
   "outputs": [],
   "source": [
    "# importing relevant libraries\n",
    "import surprise\n",
    "from surprise.model_selection import cross_validate\n",
    "from surprise.prediction_algorithms import SVD, NMF\n",
    "from surprise.model_selection import GridSearchCV\n",
    "import numpy as np"
   ]
  },
  {
   "cell_type": "code",
   "execution_count": 74,
   "metadata": {},
   "outputs": [],
   "source": [
    "from surprise.prediction_algorithms import CoClustering, BaselineOnly, KNNBasic"
   ]
  },
  {
   "cell_type": "code",
   "execution_count": 75,
   "metadata": {
    "scrolled": true
   },
   "outputs": [],
   "source": [
    "svd = SVD(random_state = 0)\n",
    "val_svd = cross_validate(svd, train, measures=['RMSE', 'MAE'], cv=3)"
   ]
  },
  {
   "cell_type": "code",
   "execution_count": 76,
   "metadata": {},
   "outputs": [
    {
     "data": {
      "text/plain": [
       "1.2980251758593095"
      ]
     },
     "execution_count": 76,
     "metadata": {},
     "output_type": "execute_result"
    }
   ],
   "source": [
    "np.mean(val_svd['test_rmse'])"
   ]
  },
  {
   "cell_type": "code",
   "execution_count": 37,
   "metadata": {},
   "outputs": [],
   "source": [
    "nmf = NMF(random_state = 0)\n",
    "val_nmf = cross_validate(nmf, train, measures=['RMSE', 'MAE'], cv=3)"
   ]
  },
  {
   "cell_type": "code",
   "execution_count": 38,
   "metadata": {},
   "outputs": [
    {
     "data": {
      "text/plain": [
       "1.4331195775188146"
      ]
     },
     "execution_count": 38,
     "metadata": {},
     "output_type": "execute_result"
    }
   ],
   "source": [
    "np.mean(val_nmf['test_rmse'])"
   ]
  },
  {
   "cell_type": "code",
   "execution_count": 41,
   "metadata": {},
   "outputs": [
    {
     "name": "stdout",
     "output_type": "stream",
     "text": [
      "Computing the msd similarity matrix...\n",
      "Done computing similarity matrix.\n",
      "Computing the msd similarity matrix...\n",
      "Done computing similarity matrix.\n",
      "Computing the msd similarity matrix...\n",
      "Done computing similarity matrix.\n"
     ]
    }
   ],
   "source": [
    "knnb = KNNBasic()\n",
    "val_knnb = cross_validate(knnb, train, measures=['RMSE', 'MAE'], cv=3)"
   ]
  },
  {
   "cell_type": "code",
   "execution_count": 42,
   "metadata": {},
   "outputs": [
    {
     "data": {
      "text/plain": [
       "1.390615066754609"
      ]
     },
     "execution_count": 42,
     "metadata": {},
     "output_type": "execute_result"
    }
   ],
   "source": [
    "np.mean(val_knnb['test_rmse'])"
   ]
  },
  {
   "cell_type": "code",
   "execution_count": 44,
   "metadata": {},
   "outputs": [
    {
     "data": {
      "text/plain": [
       "1.405233032282113"
      ]
     },
     "execution_count": 44,
     "metadata": {},
     "output_type": "execute_result"
    }
   ],
   "source": [
    "cocl = CoClustering(random_state = 0)\n",
    "val_cocl = cross_validate(cocl, train, measures=['RMSE', 'MAE'], cv=3)\n",
    "np.mean(val_cocl['test_rmse'])"
   ]
  },
  {
   "cell_type": "code",
   "execution_count": 45,
   "metadata": {},
   "outputs": [
    {
     "name": "stdout",
     "output_type": "stream",
     "text": [
      "Estimating biases using als...\n",
      "Estimating biases using als...\n",
      "Estimating biases using als...\n"
     ]
    },
    {
     "data": {
      "text/plain": [
       "1.3046543554928207"
      ]
     },
     "execution_count": 45,
     "metadata": {},
     "output_type": "execute_result"
    }
   ],
   "source": [
    "base = BaselineOnly()\n",
    "val_base = cross_validate(base, train, measures=['RMSE', 'MAE'], cv=3)\n",
    "np.mean(val_base['test_rmse'])"
   ]
  },
  {
   "cell_type": "markdown",
   "metadata": {},
   "source": [
    "### Summary of RMSE Values from Model Validation\n",
    "- SVD - 1.298\n",
    "- NMF - 1.433\n",
    "- KNNBasic - 1.391\n",
    "- CoClustering - 1.405\n",
    "- BaselineOnly - 1.305\n",
    "\n",
    "SVD is selected for the baseline model."
   ]
  },
  {
   "cell_type": "code",
   "execution_count": 77,
   "metadata": {},
   "outputs": [],
   "source": [
    "svd = SVD(random_state = 0).fit(train_set)"
   ]
  },
  {
   "cell_type": "code",
   "execution_count": 78,
   "metadata": {},
   "outputs": [],
   "source": [
    "pred = []\n",
    "for i in range(len(X_test)):\n",
    "    pred.append(svd.predict(X_test.iloc[i].values[0], X_test.iloc[i].values[1])[3])"
   ]
  },
  {
   "cell_type": "code",
   "execution_count": 79,
   "metadata": {},
   "outputs": [
    {
     "name": "stdout",
     "output_type": "stream",
     "text": [
      "1.282665736278365\n"
     ]
    }
   ],
   "source": [
    "from sklearn.metrics import mean_squared_error\n",
    "print(mean_squared_error(y_test, pred, squared=False))"
   ]
  },
  {
   "cell_type": "markdown",
   "metadata": {},
   "source": [
    "- RMSE for SVD using test data is 1.283."
   ]
  },
  {
   "cell_type": "code",
   "execution_count": 48,
   "metadata": {},
   "outputs": [],
   "source": [
    "from sklearn import preprocessing\n",
    "le_item = preprocessing.LabelEncoder()\n",
    "item_trans = le_item.fit_transform(X.item)\n",
    "X['item'] = pd.DataFrame(item_trans)\n",
    "\n",
    "le_user = preprocessing.LabelEncoder()\n",
    "user_trans = le_user.fit_transform(X.user)\n",
    "X['user'] = pd.DataFrame(user_trans)\n",
    "\n",
    "from sklearn.model_selection import train_test_split\n",
    "X_train, X_test, y_train, y_test = train_test_split(X, y, test_size=0.33, random_state=0)"
   ]
  },
  {
   "cell_type": "code",
   "execution_count": 49,
   "metadata": {},
   "outputs": [],
   "source": [
    "from sklearn.linear_model import LinearRegression\n",
    "from sklearn.ensemble import RandomForestRegressor, AdaBoostRegressor, GradientBoostingRegressor\n",
    "from sklearn.metrics import mean_squared_error\n",
    "\n",
    "lr = LinearRegression()\n",
    "rfr = RandomForestRegressor(random_state=0)\n",
    "abr = AdaBoostRegressor(random_state=0)\n",
    "gbr = GradientBoostingRegressor(random_state=0)"
   ]
  },
  {
   "cell_type": "code",
   "execution_count": 50,
   "metadata": {},
   "outputs": [
    {
     "name": "stdout",
     "output_type": "stream",
     "text": [
      "1.4064298478133768\n",
      "1.494283731720911\n",
      "1.4050249592110386\n",
      "1.395876911454813\n"
     ]
    }
   ],
   "source": [
    "lr.fit(X_train, y_train)\n",
    "rfr.fit(X_train, y_train)\n",
    "abr.fit(X_train, y_train)\n",
    "gbr.fit(X_train, y_train)\n",
    "\n",
    "rating_pred_lr = lr.predict(X_test)\n",
    "rating_pred_rfr = rfr.predict(X_test)\n",
    "rating_pred_abr = abr.predict(X_test)\n",
    "rating_pred_gbr = gbr.predict(X_test)\n",
    "\n",
    "print(mean_squared_error(y_test, rating_pred_lr, squared=False))\n",
    "print(mean_squared_error(y_test, rating_pred_rfr, squared=False))\n",
    "print(mean_squared_error(y_test, rating_pred_abr, squared=False))\n",
    "print(mean_squared_error(y_test, rating_pred_gbr, squared=False))"
   ]
  },
  {
   "cell_type": "markdown",
   "metadata": {},
   "source": [
    "- Regressors from sklearn library are used to get RMSE using test data, but no RMSE is better than the RMSE using SVD.\n",
    "\n",
    "### Gridsearch to reduce RMSE"
   ]
  },
  {
   "cell_type": "code",
   "execution_count": 69,
   "metadata": {},
   "outputs": [],
   "source": [
    "params = {'n_factors': [90, 100, 110],\n",
    "          'reg_all': [0.07, 0.08, 0.09], \n",
    "          'n_epochs': [110, 120, 130, 140, 150]}\n",
    "gs_model = GridSearchCV(SVD, param_grid=params, cv=3, measures=[\"rmse\"], n_jobs = -1)\n",
    "gs_model.fit(train)"
   ]
  },
  {
   "cell_type": "code",
   "execution_count": 75,
   "metadata": {},
   "outputs": [],
   "source": [
    "params = {'n_factors': [100],\n",
    "          'reg_all': [0.06, 0.07, 0.08], \n",
    "          'n_epochs': [150, 160, 170]}\n",
    "gs_model = GridSearchCV(SVD, param_grid=params, cv=3, measures=[\"rmse\"], n_jobs = -1)\n",
    "gs_model.fit(train)"
   ]
  },
  {
   "cell_type": "code",
   "execution_count": 76,
   "metadata": {},
   "outputs": [
    {
     "data": {
      "text/plain": [
       "{'rmse': 1.2851814251783829}"
      ]
     },
     "execution_count": 76,
     "metadata": {},
     "output_type": "execute_result"
    }
   ],
   "source": [
    "gs_model.best_score"
   ]
  },
  {
   "cell_type": "markdown",
   "metadata": {},
   "source": [
    "- RMSE from model validation is lowered from 1.298."
   ]
  },
  {
   "cell_type": "code",
   "execution_count": 77,
   "metadata": {},
   "outputs": [
    {
     "data": {
      "text/plain": [
       "{'rmse': {'n_factors': 100, 'reg_all': 0.07, 'n_epochs': 150}}"
      ]
     },
     "execution_count": 77,
     "metadata": {},
     "output_type": "execute_result"
    }
   ],
   "source": [
    "gs_model.best_params"
   ]
  }
 ],
 "metadata": {
  "kernelspec": {
   "display_name": "Python (learn-env)",
   "language": "python",
   "name": "learn-env"
  },
  "language_info": {
   "codemirror_mode": {
    "name": "ipython",
    "version": 3
   },
   "file_extension": ".py",
   "mimetype": "text/x-python",
   "name": "python",
   "nbconvert_exporter": "python",
   "pygments_lexer": "ipython3",
   "version": "3.8.5"
  }
 },
 "nbformat": 4,
 "nbformat_minor": 4
}
