{
 "cells": [
  {
   "cell_type": "markdown",
   "metadata": {},
   "source": [
    "# Amazon Recommender System\n",
    "![amazon](./images/amazon.png)"
   ]
  },
  {
   "cell_type": "markdown",
   "metadata": {},
   "source": [
    "# Overview\n",
    "Amazon is interested in building a new personalized recommendation system. Visualizations and text summaries are included at the end.\n",
    "\n",
    "#  Business Problem\n",
    "It is found that 35% of Amazon's revenue is from the recommendation system ([link](https://www.mckinsey.com/industries/retail/our-insights/how-retailers-can-keep-up-with-consumers)). Amazon offers various recommendations based on popularity, purchase history, browsing history, etc. However, Amazon does not offer a recommendation system built based on customer ratings. While the market size for video gaming is increasing ([link](https://www.ibisworld.com/industry-statistics/market-size/video-games-united-states/)), this analysis will show you how we can build a personalized system for **video games** using customers' ratings.\n",
    "\n",
    "# Data Understanding\n",
    "There are two datasets, review data and metadata. If the download links below do not work, the files can be downloaded from this [link](https://nijianmo.github.io/amazon/index.html). Both data have information from the year 1996 till 2018.\n",
    "\n",
    "## Review Data\n",
    "The review data has customer id, game item id, and ratings."
   ]
  },
  {
   "cell_type": "code",
   "execution_count": 1,
   "metadata": {},
   "outputs": [],
   "source": [
    "# import library\n",
    "import pandas as pd\n",
    "\n",
    "import warnings\n",
    "warnings.filterwarnings(action='ignore')\n",
    "\n",
    "import matplotlib.pyplot as plt\n",
    "%matplotlib inline\n",
    "\n",
    "from matplotlib.axes._axes import _log as matplotlib_axes_logger\n",
    "from matplotlib.ticker import FuncFormatter\n",
    "\n",
    "import code.visualizations as viz"
   ]
  },
  {
   "cell_type": "code",
   "execution_count": 2,
   "metadata": {},
   "outputs": [],
   "source": [
    "df = pd.read_csv('http://deepyeti.ucsd.edu/jianmo/amazon/categoryFilesSmall/Video_Games.csv', \n",
    "                 names=['item', 'user', 'rating', 'timestamp'])\n",
    "\n",
    "# changing column orders\n",
    "# drop unnecessary column\n",
    "df = df[['user', 'item', 'rating']]\n",
    "\n",
    "# update datatype for rating values\n",
    "df.rating = df.rating.astype('int32')"
   ]
  },
  {
   "cell_type": "code",
   "execution_count": 3,
   "metadata": {},
   "outputs": [
    {
     "name": "stdout",
     "output_type": "stream",
     "text": [
      "<class 'pandas.core.frame.DataFrame'>\n",
      "RangeIndex: 2565349 entries, 0 to 2565348\n",
      "Data columns (total 3 columns):\n",
      " #   Column  Dtype \n",
      "---  ------  ----- \n",
      " 0   user    object\n",
      " 1   item    object\n",
      " 2   rating  int32 \n",
      "dtypes: int32(1), object(2)\n",
      "memory usage: 48.9+ MB\n"
     ]
    }
   ],
   "source": [
    "# checking data types\n",
    "df.info()"
   ]
  },
  {
   "cell_type": "code",
   "execution_count": 4,
   "metadata": {},
   "outputs": [
    {
     "data": {
      "text/html": [
       "<div>\n",
       "<style scoped>\n",
       "    .dataframe tbody tr th:only-of-type {\n",
       "        vertical-align: middle;\n",
       "    }\n",
       "\n",
       "    .dataframe tbody tr th {\n",
       "        vertical-align: top;\n",
       "    }\n",
       "\n",
       "    .dataframe thead th {\n",
       "        text-align: right;\n",
       "    }\n",
       "</style>\n",
       "<table border=\"1\" class=\"dataframe\">\n",
       "  <thead>\n",
       "    <tr style=\"text-align: right;\">\n",
       "      <th></th>\n",
       "      <th>user</th>\n",
       "      <th>item</th>\n",
       "      <th>rating</th>\n",
       "    </tr>\n",
       "  </thead>\n",
       "  <tbody>\n",
       "    <tr>\n",
       "      <th>0</th>\n",
       "      <td>A21ROB4YDOZA5P</td>\n",
       "      <td>0439381673</td>\n",
       "      <td>1</td>\n",
       "    </tr>\n",
       "    <tr>\n",
       "      <th>1</th>\n",
       "      <td>A3TNZ2Q5E7HTHD</td>\n",
       "      <td>0439381673</td>\n",
       "      <td>3</td>\n",
       "    </tr>\n",
       "    <tr>\n",
       "      <th>2</th>\n",
       "      <td>A1OKRM3QFEATQO</td>\n",
       "      <td>0439381673</td>\n",
       "      <td>4</td>\n",
       "    </tr>\n",
       "    <tr>\n",
       "      <th>3</th>\n",
       "      <td>A2XO1JFCNEYV3T</td>\n",
       "      <td>0439381673</td>\n",
       "      <td>1</td>\n",
       "    </tr>\n",
       "    <tr>\n",
       "      <th>4</th>\n",
       "      <td>A19WLPIRHD15TH</td>\n",
       "      <td>0439381673</td>\n",
       "      <td>4</td>\n",
       "    </tr>\n",
       "  </tbody>\n",
       "</table>\n",
       "</div>"
      ],
      "text/plain": [
       "             user        item  rating\n",
       "0  A21ROB4YDOZA5P  0439381673       1\n",
       "1  A3TNZ2Q5E7HTHD  0439381673       3\n",
       "2  A1OKRM3QFEATQO  0439381673       4\n",
       "3  A2XO1JFCNEYV3T  0439381673       1\n",
       "4  A19WLPIRHD15TH  0439381673       4"
      ]
     },
     "execution_count": 4,
     "metadata": {},
     "output_type": "execute_result"
    }
   ],
   "source": [
    "# print the first 5 rows\n",
    "df.head()"
   ]
  },
  {
   "cell_type": "markdown",
   "metadata": {},
   "source": [
    "Every rating value is integers from 1 to 5."
   ]
  },
  {
   "cell_type": "code",
   "execution_count": 5,
   "metadata": {},
   "outputs": [
    {
     "data": {
      "text/plain": [
       "5    1487366\n",
       "4     412413\n",
       "1     311891\n",
       "3     212346\n",
       "2     141333\n",
       "Name: rating, dtype: int64"
      ]
     },
     "execution_count": 5,
     "metadata": {},
     "output_type": "execute_result"
    }
   ],
   "source": [
    "df.rating.value_counts()"
   ]
  },
  {
   "cell_type": "markdown",
   "metadata": {},
   "source": [
    "There is no missing values."
   ]
  },
  {
   "cell_type": "code",
   "execution_count": 6,
   "metadata": {},
   "outputs": [
    {
     "data": {
      "text/plain": [
       "user      0\n",
       "item      0\n",
       "rating    0\n",
       "dtype: int64"
      ]
     },
     "execution_count": 6,
     "metadata": {},
     "output_type": "execute_result"
    }
   ],
   "source": [
    "df.isna().sum()"
   ]
  },
  {
   "cell_type": "markdown",
   "metadata": {},
   "source": [
    "More than half of the ratings are 5."
   ]
  },
  {
   "cell_type": "code",
   "execution_count": 7,
   "metadata": {},
   "outputs": [
    {
     "data": {
      "image/png": "[encoded data removed]",
      "text/plain": [
       "<Figure size 504x576 with 1 Axes>"
      ]
     },
     "metadata": {
      "needs_background": "light"
     },
     "output_type": "display_data"
    }
   ],
   "source": [
    "review_dist = pd.DataFrame(df.rating.value_counts(normalize = True)).reset_index().sort_values(by = 'index')\n",
    "review_dist.rename(columns = {'index': 'review_rating', 'rating':'percentage'}, inplace = True)\n",
    "\n",
    "# show rating distribution\n",
    "viz.result_1(review_dist)"
   ]
  },
  {
   "cell_type": "markdown",
   "metadata": {},
   "source": [
    "## Metadata\n",
    "\n",
    "This data contains information on video games. The selected information is the brand name, category, game item id, and game title. This data will help print out the game titles and organize the information gained from the analysis.\n",
    "\n",
    "### Cleaning metadata\n",
    "\n",
    "Brand names will be formatted to simplify the names."
   ]
  },
  {
   "cell_type": "code",
   "execution_count": 8,
   "metadata": {},
   "outputs": [],
   "source": [
    "import gzip\n",
    "import json\n",
    "\n",
    "# reading json file line by line\n",
    "df_meta = pd.read_json('http://deepyeti.ucsd.edu/jianmo/amazon/metaFiles2/meta_Video_Games.json.gz', \n",
    "                    lines=True)\n",
    "\n",
    "# select relevant columns only\n",
    "df_meta_basic = df_meta[['title', 'asin', 'category', 'brand']]\n",
    "\n",
    "# formatting brand names\n",
    "df_meta_basic['brand'] = df_meta_basic['brand'].str.replace(\"\\n\", \"\")\n",
    "df_meta_basic['brand'] = df_meta_basic['brand'].str.replace(\"by\", \"\")\n",
    "df_meta_basic['brand'] = df_meta_basic['brand'].str.replace(\" \", \"\")\n",
    "df_meta_basic['brand'] = df_meta_basic['brand'].str.lower()"
   ]
  },
  {
   "cell_type": "markdown",
   "metadata": {},
   "source": [
    "Duplicate rows are checked and then removed."
   ]
  },
  {
   "cell_type": "code",
   "execution_count": 9,
   "metadata": {},
   "outputs": [
    {
     "data": {
      "text/plain": [
       "False    71911\n",
       "True     12908\n",
       "dtype: int64"
      ]
     },
     "execution_count": 9,
     "metadata": {},
     "output_type": "execute_result"
    }
   ],
   "source": [
    "# checking duplicates\n",
    "df_meta_basic.duplicated(subset=['asin']).value_counts()"
   ]
  },
  {
   "cell_type": "code",
   "execution_count": 10,
   "metadata": {},
   "outputs": [],
   "source": [
    "# drop duplicates\n",
    "df_meta_basic.drop_duplicates(subset=['asin'], inplace = True)"
   ]
  },
  {
   "cell_type": "markdown",
   "metadata": {},
   "source": [
    "## Combine Multiple Information\n",
    "This would be a huge step. Information from review data will be added to the metadata, and then many columns of categories will be also added to the metadata.\n",
    "\n",
    "### Adding Mean of Ratings\n",
    "Mean of ratings from review data will be calculated and then assigined to each video game in the metadata."
   ]
  },
  {
   "cell_type": "code",
   "execution_count": 11,
   "metadata": {},
   "outputs": [
    {
     "data": {
      "text/html": [
       "<div>\n",
       "<style scoped>\n",
       "    .dataframe tbody tr th:only-of-type {\n",
       "        vertical-align: middle;\n",
       "    }\n",
       "\n",
       "    .dataframe tbody tr th {\n",
       "        vertical-align: top;\n",
       "    }\n",
       "\n",
       "    .dataframe thead th {\n",
       "        text-align: right;\n",
       "    }\n",
       "</style>\n",
       "<table border=\"1\" class=\"dataframe\">\n",
       "  <thead>\n",
       "    <tr style=\"text-align: right;\">\n",
       "      <th></th>\n",
       "      <th>title</th>\n",
       "      <th>asin</th>\n",
       "      <th>category</th>\n",
       "      <th>brand</th>\n",
       "      <th>avg_rating</th>\n",
       "    </tr>\n",
       "  </thead>\n",
       "  <tbody>\n",
       "    <tr>\n",
       "      <th>0</th>\n",
       "      <td>Reversi Sensory Challenger</td>\n",
       "      <td>0042000742</td>\n",
       "      <td>[Video Games, PC, Games]</td>\n",
       "      <td>fidelityelectronics</td>\n",
       "      <td>5.000000</td>\n",
       "    </tr>\n",
       "    <tr>\n",
       "      <th>1</th>\n",
       "      <td>Medal of Honor: Warfighter - Includes Battlefi...</td>\n",
       "      <td>0078764343</td>\n",
       "      <td>[Video Games, Xbox 360, Games, &lt;/span&gt;&lt;/span&gt;&lt;...</td>\n",
       "      <td>eagames</td>\n",
       "      <td>4.750000</td>\n",
       "    </tr>\n",
       "    <tr>\n",
       "      <th>2</th>\n",
       "      <td>street fighter 2 II turbo super nintendo snes ...</td>\n",
       "      <td>0276425316</td>\n",
       "      <td>[Video Games, Retro Gaming &amp; Microconsoles, Su...</td>\n",
       "      <td>nintendo</td>\n",
       "      <td>5.000000</td>\n",
       "    </tr>\n",
       "    <tr>\n",
       "      <th>3</th>\n",
       "      <td>Xbox 360 MAS STICK</td>\n",
       "      <td>0324411812</td>\n",
       "      <td>[Video Games, Xbox 360, Accessories, Controlle...</td>\n",
       "      <td>massystems</td>\n",
       "      <td>1.000000</td>\n",
       "    </tr>\n",
       "    <tr>\n",
       "      <th>4</th>\n",
       "      <td>Phonics Alive! 3: The Speller</td>\n",
       "      <td>0439335310</td>\n",
       "      <td>[Video Games, PC, Games, &lt;/span&gt;&lt;/span&gt;&lt;/span&gt;...</td>\n",
       "      <td>advancedsoftwarepty.ltd.</td>\n",
       "      <td>3.000000</td>\n",
       "    </tr>\n",
       "    <tr>\n",
       "      <th>...</th>\n",
       "      <td>...</td>\n",
       "      <td>...</td>\n",
       "      <td>...</td>\n",
       "      <td>...</td>\n",
       "      <td>...</td>\n",
       "    </tr>\n",
       "    <tr>\n",
       "      <th>71904</th>\n",
       "      <td>Lego Star Wars: The Force Awakens - PS Vita [D...</td>\n",
       "      <td>B01HJ1521Y</td>\n",
       "      <td>[Video Games, PlayStation Vita, Digital Games ...</td>\n",
       "      <td>warnerbros.</td>\n",
       "      <td>5.000000</td>\n",
       "    </tr>\n",
       "    <tr>\n",
       "      <th>71905</th>\n",
       "      <td>Lego Star Wars: The Force Awakens  Season Pass...</td>\n",
       "      <td>B01HJ14TTA</td>\n",
       "      <td>[Video Games, PlayStation 4, Digital Games &amp; D...</td>\n",
       "      <td>warnerbros.</td>\n",
       "      <td>3.000000</td>\n",
       "    </tr>\n",
       "    <tr>\n",
       "      <th>71906</th>\n",
       "      <td>The Technomancer - PS4 [Digital Code]</td>\n",
       "      <td>B01HJ14OT0</td>\n",
       "      <td>[Video Games, PlayStation 4, Digital Games &amp; D...</td>\n",
       "      <td>focushomeinteractive</td>\n",
       "      <td>5.000000</td>\n",
       "    </tr>\n",
       "    <tr>\n",
       "      <th>71907</th>\n",
       "      <td>Repair T8 T6 Tools for XBOX One Xbox 360, YTTL...</td>\n",
       "      <td>B01HJC33WS</td>\n",
       "      <td>[Video Games, Xbox 360, Accessories, &lt;/span&gt;&lt;/...</td>\n",
       "      <td>yttl</td>\n",
       "      <td>4.590909</td>\n",
       "    </tr>\n",
       "    <tr>\n",
       "      <th>71908</th>\n",
       "      <td>Zelotes 4000 DPI Programmable Gaming Mouse for...</td>\n",
       "      <td>B01HJEBIAA</td>\n",
       "      <td>[Video Games, PC, Accessories, Gaming Mice]</td>\n",
       "      <td>zelotes</td>\n",
       "      <td>4.233333</td>\n",
       "    </tr>\n",
       "  </tbody>\n",
       "</table>\n",
       "<p>71909 rows × 5 columns</p>\n",
       "</div>"
      ],
      "text/plain": [
       "                                                   title        asin  \\\n",
       "0                             Reversi Sensory Challenger  0042000742   \n",
       "1      Medal of Honor: Warfighter - Includes Battlefi...  0078764343   \n",
       "2      street fighter 2 II turbo super nintendo snes ...  0276425316   \n",
       "3                                     Xbox 360 MAS STICK  0324411812   \n",
       "4                          Phonics Alive! 3: The Speller  0439335310   \n",
       "...                                                  ...         ...   \n",
       "71904  Lego Star Wars: The Force Awakens - PS Vita [D...  B01HJ1521Y   \n",
       "71905  Lego Star Wars: The Force Awakens  Season Pass...  B01HJ14TTA   \n",
       "71906              The Technomancer - PS4 [Digital Code]  B01HJ14OT0   \n",
       "71907  Repair T8 T6 Tools for XBOX One Xbox 360, YTTL...  B01HJC33WS   \n",
       "71908  Zelotes 4000 DPI Programmable Gaming Mouse for...  B01HJEBIAA   \n",
       "\n",
       "                                                category  \\\n",
       "0                               [Video Games, PC, Games]   \n",
       "1      [Video Games, Xbox 360, Games, </span></span><...   \n",
       "2      [Video Games, Retro Gaming & Microconsoles, Su...   \n",
       "3      [Video Games, Xbox 360, Accessories, Controlle...   \n",
       "4      [Video Games, PC, Games, </span></span></span>...   \n",
       "...                                                  ...   \n",
       "71904  [Video Games, PlayStation Vita, Digital Games ...   \n",
       "71905  [Video Games, PlayStation 4, Digital Games & D...   \n",
       "71906  [Video Games, PlayStation 4, Digital Games & D...   \n",
       "71907  [Video Games, Xbox 360, Accessories, </span></...   \n",
       "71908        [Video Games, PC, Accessories, Gaming Mice]   \n",
       "\n",
       "                          brand  avg_rating  \n",
       "0           fidelityelectronics    5.000000  \n",
       "1                       eagames    4.750000  \n",
       "2                      nintendo    5.000000  \n",
       "3                    massystems    1.000000  \n",
       "4      advancedsoftwarepty.ltd.    3.000000  \n",
       "...                         ...         ...  \n",
       "71904               warnerbros.    5.000000  \n",
       "71905               warnerbros.    3.000000  \n",
       "71906      focushomeinteractive    5.000000  \n",
       "71907                      yttl    4.590909  \n",
       "71908                   zelotes    4.233333  \n",
       "\n",
       "[71909 rows x 5 columns]"
      ]
     },
     "execution_count": 11,
     "metadata": {},
     "output_type": "execute_result"
    }
   ],
   "source": [
    "# Calculate mean ratings for each item\n",
    "rating_avg_df = df.groupby('item').mean().reset_index()\n",
    "\n",
    "# rename column names for easier merging with meta data\n",
    "rating_avg_df.rename(columns = {'rating' : 'avg_rating', \n",
    "                                'item' : 'asin'}, \n",
    "                     inplace = True)\n",
    "\n",
    "# assign mean ratings to each item using merging\n",
    "df_meta_final = pd.merge(df_meta_basic, rating_avg_df, on='asin', how='inner')\n",
    "\n",
    "df_meta_final"
   ]
  },
  {
   "cell_type": "markdown",
   "metadata": {},
   "source": [
    "### Adding Columns for Console Names and Brand Names\n",
    "Later in the analysis, I will be discussing \"similarity\". To calculate similarity, we need more specific information. This step will try to gain console information and brand names. Each console name or brand name will be added as a column name. This will tell us if a game item belongs to a console name or a brand name."
   ]
  },
  {
   "cell_type": "code",
   "execution_count": 12,
   "metadata": {},
   "outputs": [],
   "source": [
    "# a function to get console information from category column\n",
    "# this will try to search console name by looping category values\n",
    "def find_cat(df, cat):\n",
    "    length = []\n",
    "    for i in df.index:\n",
    "        text_list = df.iloc[i].category\n",
    "        length.append(len([t for t in text_list if cat in t.replace(\" \", \"\").lower()]))\n",
    "    return pd.DataFrame(length, columns = [cat])"
   ]
  },
  {
   "cell_type": "code",
   "execution_count": 13,
   "metadata": {},
   "outputs": [],
   "source": [
    "# Console names to be searched\n",
    "console = ['pc', 'xbox', 'xbox360', 'xboxone', \n",
    " 'playstation', 'playstation2', 'playstation3', 'playstation4', \n",
    " 'cube', 'wii', 'switch', 'nintendo',\n",
    " 'accessories', \n",
    "]\n",
    "\n",
    "# Select 30 brand names with the highest counts\n",
    "# control the number of columns\n",
    "brand = df_meta_final.brand.value_counts().head(30).index\n",
    "\n",
    "# search each console name and add each to the metadata as a new column\n",
    "for c in console:\n",
    "    example = find_cat(df_meta_final, c)\n",
    "    # If a name is found multiplel times, set it to 1\n",
    "    example[c] = example[c].map(lambda x: 1 if x >= 1 else 0)\n",
    "    df_meta_final = pd.concat([df_meta_final, example], axis = 1)\n",
    "\n",
    "# search each brand name and add each to the metadata as a new column\n",
    "for b in brand:\n",
    "    df_meta_final[b] = df_meta_final.brand.map(lambda x: 1 if x == b else 0)\n",
    "    \n",
    "# drop original columns\n",
    "df_meta_final.drop(['category', 'brand'], axis = 1, inplace = True)"
   ]
  },
  {
   "cell_type": "code",
   "execution_count": 14,
   "metadata": {},
   "outputs": [
    {
     "data": {
      "text/plain": [
       "Index(['title', 'asin', 'avg_rating', 'pc', 'xbox', 'xbox360', 'xboxone',\n",
       "       'playstation', 'playstation2', 'playstation3', 'playstation4', 'cube',\n",
       "       'wii', 'switch', 'nintendo', 'accessories', '', 'electronicarts',\n",
       "       'activision', 'sony', 'ubisoft', 'sega', 'microsoft', 'atari', 'thq',\n",
       "       'konami', 'capcom', 'squareenix', 'madcatz', 'bandai', '2k', 'encore',\n",
       "       'generic', 'dreamgear', 'intec', 'vivamedia', 'vivendiuniversal',\n",
       "       'wbgames', 'skinit', 'unknown', 'wraptorskinz', 'modfreakz', 'midway',\n",
       "       'hori'],\n",
       "      dtype='object')"
      ]
     },
     "execution_count": 14,
     "metadata": {},
     "output_type": "execute_result"
    }
   ],
   "source": [
    "df_meta_final.columns"
   ]
  },
  {
   "cell_type": "markdown",
   "metadata": {},
   "source": [
    "# Analysis 1 - Building a System\n",
    "This part will explain how customers would rate the game items they have not rated.\n",
    "\n",
    "## Train-test-split\n",
    "The data is split into train data and test data. A model will be trained and validated using train data, and prediction rating will be calculated using test data."
   ]
  },
  {
   "cell_type": "code",
   "execution_count": 15,
   "metadata": {},
   "outputs": [],
   "source": [
    "# selecting X and y\n",
    "X = df[df.columns[:2]]\n",
    "y = df[df.columns[-1]]\n",
    "\n",
    "from sklearn.model_selection import train_test_split\n",
    "X_train, X_test, y_train, y_test = train_test_split(X, y, test_size=0.33, random_state=0)"
   ]
  },
  {
   "cell_type": "code",
   "execution_count": 16,
   "metadata": {},
   "outputs": [],
   "source": [
    "from surprise import Reader, Dataset\n",
    "# read in values as Surprise dataset \n",
    "reader = Reader()\n",
    "# train data\n",
    "# Loading the data again for the Surprise library\n",
    "train = Dataset.load_from_df(pd.concat([X_train, y_train], axis = 1), reader)\n",
    "# test data\n",
    "# Loading the data again for the Surprise library\n",
    "test = Dataset.load_from_df(pd.concat([X_test, y_test], axis = 1), reader)\n",
    "# whole data for comparison\n",
    "data = Dataset.load_from_df(df, reader)"
   ]
  },
  {
   "cell_type": "code",
   "execution_count": 17,
   "metadata": {},
   "outputs": [
    {
     "name": "stdout",
     "output_type": "stream",
     "text": [
      "Number of users:  1540618 \n",
      "\n",
      "Number of items:  71982\n"
     ]
    }
   ],
   "source": [
    "# summary of the whole data\n",
    "dataset = data.build_full_trainset()\n",
    "print('Number of users: ', dataset.n_users, '\\n')\n",
    "print('Number of items: ', dataset.n_items)"
   ]
  },
  {
   "cell_type": "code",
   "execution_count": 18,
   "metadata": {},
   "outputs": [
    {
     "name": "stdout",
     "output_type": "stream",
     "text": [
      "Number of users:  1139782 \n",
      "\n",
      "Number of items:  65479\n"
     ]
    }
   ],
   "source": [
    "# summary of the train data\n",
    "train_set = train.build_full_trainset()\n",
    "print('Number of users: ', train_set.n_users, '\\n')\n",
    "print('Number of items: ', train_set.n_items)"
   ]
  },
  {
   "cell_type": "code",
   "execution_count": 19,
   "metadata": {},
   "outputs": [
    {
     "name": "stdout",
     "output_type": "stream",
     "text": [
      "Number of users:  644499 \n",
      "\n",
      "Number of items:  53651\n"
     ]
    }
   ],
   "source": [
    "# summary of the test data\n",
    "test_set = test.build_full_trainset()\n",
    "print('Number of users: ', test_set.n_users, '\\n')\n",
    "print('Number of items: ', test_set.n_items)"
   ]
  },
  {
   "cell_type": "markdown",
   "metadata": {},
   "source": [
    "## Baseline Model and Final Model\n",
    "Analysis will use surprise library to estimate expected ratings. The validation had been checked using RMSE. The whole steps finding the final model is found at **EDA_baseline_model_and_finalized_model_selection.ipynb**. This is a major step building a personalized recommendation system.\n",
    "\n",
    "### Collaborative Filtering\n",
    "Collaborative filtering uses a matrix factorization. This will check relationship between each items or between each customers."
   ]
  },
  {
   "cell_type": "code",
   "execution_count": 20,
   "metadata": {},
   "outputs": [],
   "source": [
    "# importing relevant libraries\n",
    "import surprise\n",
    "from surprise.model_selection import cross_validate\n",
    "from surprise.prediction_algorithms import SVD\n",
    "import numpy as np"
   ]
  },
  {
   "cell_type": "code",
   "execution_count": 21,
   "metadata": {
    "scrolled": true
   },
   "outputs": [
    {
     "name": "stdout",
     "output_type": "stream",
     "text": [
      "Mean RMSE for the baseline model validation:\n"
     ]
    },
    {
     "data": {
      "text/plain": [
       "1.2976121732662644"
      ]
     },
     "execution_count": 21,
     "metadata": {},
     "output_type": "execute_result"
    }
   ],
   "source": [
    "svd = SVD(random_state = 0)\n",
    "val_svd = cross_validate(svd, train, measures=['RMSE', 'MAE'], cv=3)\n",
    "print(\"Mean RMSE for the baseline model validation:\")\n",
    "np.mean(val_svd['test_rmse'])"
   ]
  },
  {
   "cell_type": "code",
   "execution_count": 22,
   "metadata": {},
   "outputs": [
    {
     "name": "stdout",
     "output_type": "stream",
     "text": [
      "RMSE for the baseline model on test data:\n",
      "1.282665736278365\n"
     ]
    }
   ],
   "source": [
    "svd = SVD(random_state = 0).fit(train_set)\n",
    "\n",
    "pred = []\n",
    "for i in range(len(X_test)):\n",
    "    pred.append(svd.predict(X_test.iloc[i].values[0], X_test.iloc[i].values[1])[3])\n",
    "    \n",
    "from sklearn.metrics import mean_squared_error\n",
    "print(\"RMSE for the baseline model on test data:\")\n",
    "print(mean_squared_error(y_test, pred, squared=False))"
   ]
  },
  {
   "cell_type": "code",
   "execution_count": 23,
   "metadata": {},
   "outputs": [
    {
     "name": "stdout",
     "output_type": "stream",
     "text": [
      "Mean RMSE for the final model validation:\n"
     ]
    },
    {
     "data": {
      "text/plain": [
       "1.2848607806625232"
      ]
     },
     "execution_count": 23,
     "metadata": {},
     "output_type": "execute_result"
    }
   ],
   "source": [
    "svd = SVD(random_state = 0, \n",
    "          n_factors= 100, \n",
    "          reg_all = 0.07, \n",
    "          n_epochs = 150)\n",
    "\n",
    "val_svd = cross_validate(svd, train, measures=['RMSE', 'MAE'], cv=3)\n",
    "print(\"Mean RMSE for the final model validation:\")\n",
    "np.mean(val_svd['test_rmse'])"
   ]
  },
  {
   "cell_type": "code",
   "execution_count": 24,
   "metadata": {},
   "outputs": [
    {
     "name": "stdout",
     "output_type": "stream",
     "text": [
      "RMSE for the final model on test data:\n",
      "1.265958695728431\n"
     ]
    }
   ],
   "source": [
    "svd = SVD(random_state = 0, \n",
    "          n_factors= 100, \n",
    "          reg_all = 0.07, \n",
    "          n_epochs = 150).fit(train_set)\n",
    "pred = []\n",
    "for i in range(len(X_test)):\n",
    "    pred.append(svd.predict(X_test.iloc[i].values[0], X_test.iloc[i].values[1])[3])\n",
    "    \n",
    "from sklearn.metrics import mean_squared_error\n",
    "print(\"RMSE for the final model on test data:\")\n",
    "print(mean_squared_error(y_test, pred, squared=False))"
   ]
  },
  {
   "cell_type": "markdown",
   "metadata": {},
   "source": [
    "The RMSE for the final model is lowered.\n",
    "\n",
    "# Analysis 2 - Comparison\n",
    "This step will make a comparison between predicted ratings and given ratings on 500 randomly selected customers. Each customer will have a unique list of video games, and each video game will be assigned with a mean given rating (popularity) and a predicted rating. T-test will be used to make a comparison of two rating types, and p-values less than 0.05 will prove the difference of two rating types."
   ]
  },
  {
   "cell_type": "code",
   "execution_count": 25,
   "metadata": {},
   "outputs": [],
   "source": [
    "from scipy import stats"
   ]
  },
  {
   "cell_type": "code",
   "execution_count": 26,
   "metadata": {},
   "outputs": [],
   "source": [
    "# function to make a prediction on one user and a list of game items\n",
    "# returns a dataframe with a column of item numbers and a numbered column of predicted ratings\n",
    "# Since 500 customers will be selected, n will go upto 499 from 0.\n",
    "def pred_data(test_user, n):\n",
    "    game_rating_list = []\n",
    "    for g in uniq_game_list:\n",
    "        game_rating_list.append((g, svd.predict(test_user, g)[3]))\n",
    "    return pd.DataFrame(game_rating_list, columns = ['asin', 'rating_pred_'+ str(n)])"
   ]
  },
  {
   "cell_type": "code",
   "execution_count": 27,
   "metadata": {},
   "outputs": [],
   "source": [
    "# df - review data\n",
    "list_ = df.user.value_counts()\n",
    "\n",
    "# a unique list of games\n",
    "uniq_game_list = df['item'].unique()\n",
    "\n",
    "# a list of 500 randomly selected customers\n",
    "# Customers with at least 5 given ratings are selected to avoid too much sampling\n",
    "# from customers with low number of ratings\n",
    "# Majority of customers have given ratings less than 5.\n",
    "list_5_or_more = list_[list_ >= 5].sample(500, random_state = 0)\n",
    "list_5_or_more_index = list_5_or_more.index\n",
    "# Predcted ratings are merged to the meta data\n",
    "for i, user in enumerate(list_5_or_more_index):\n",
    "    df_meta_final = pd.merge(df_meta_final, pred_data(user, i), on='asin', how='inner')\n",
    "\n",
    "# get p-values for all of the selected customers    \n",
    "p = []\n",
    "len_user = len(list_5_or_more_index)\n",
    "for l in range(len_user):\n",
    "    p_i = []\n",
    "    c_name = \"rating_pred_\" + str(l)\n",
    "    for i in range(10):\n",
    "        df_meta_sample = df_meta_final.sample(50, random_state = i)\n",
    "        # t-test predicted rating vs. average given rating (popularity)\n",
    "        # P-values are merged to the metadata\n",
    "        p_u = stats.ttest_ind(df_meta_sample[c_name], df_meta_final.avg_rating)[1]\n",
    "        p_i.append(p_u)\n",
    "    p.append(np.mean(p_i))"
   ]
  },
  {
   "cell_type": "code",
   "execution_count": 28,
   "metadata": {},
   "outputs": [],
   "source": [
    "list_5 = list_5_or_more.reset_index()\n",
    "list_5['p_value'] = p"
   ]
  },
  {
   "cell_type": "markdown",
   "metadata": {},
   "source": [
    "# Result 1 - P-values\n",
    "- Majority of p-values are populated below 0.05."
   ]
  },
  {
   "cell_type": "code",
   "execution_count": 29,
   "metadata": {},
   "outputs": [
    {
     "data": {
      "image/png": "[encoded data removed]",
      "text/plain": [
       "<Figure size 576x576 with 1 Axes>"
      ]
     },
     "metadata": {
      "needs_background": "light"
     },
     "output_type": "display_data"
    }
   ],
   "source": [
    "# distribution of p-values\n",
    "viz.result_2(list_5)"
   ]
  },
  {
   "cell_type": "markdown",
   "metadata": {},
   "source": [
    "- More than 60% of customers would have different shopping experience."
   ]
  },
  {
   "cell_type": "code",
   "execution_count": 30,
   "metadata": {},
   "outputs": [
    {
     "name": "stdout",
     "output_type": "stream",
     "text": [
      "The number of customers with significantly low p-values:\n"
     ]
    },
    {
     "data": {
      "text/plain": [
       "301"
      ]
     },
     "execution_count": 30,
     "metadata": {},
     "output_type": "execute_result"
    }
   ],
   "source": [
    "print(\"The number of customers with significantly low p-values:\")\n",
    "len(list_5[list_5.p_value <= 0.05])"
   ]
  },
  {
   "cell_type": "markdown",
   "metadata": {},
   "source": [
    "# Analysis 3 - Hybrid Filtering\n",
    "The graph below shows one of the extreme cases where one user can have more than 15,000 predicted rating values equal to or close to 5. This would be tough to choose 20 to 30 games to be displayed on the first page of a personalized recommendation list. In this case, we can use [hybrid filtering](https://towardsdatascience.com/recommendation-systems-explained-a42fc60591ed#:~:text=Resources-,What%20is%20a%20Recommendation%20System,give%20to%20a%20specific%20item.). Hybrid filtering can use any combination of recomomendation systems, and I have used two systems combined in this analysis. One of the two is collaborative filtering system discussed in the earlier section. The other is to use content-based system (similarity). Using a similarity value that scales from 0 to one, we can find items similar to one of the selected games."
   ]
  },
  {
   "cell_type": "code",
   "execution_count": 31,
   "metadata": {},
   "outputs": [],
   "source": [
    "# select a user\n",
    "test_user_picked = 'A2FD1GFHUH73Y5'\n",
    "\n",
    "rating_pred_df = pred_data(test_user_picked, 1000)\n",
    "df_meta_final = pd.merge(df_meta_final, rating_pred_df, on='asin', how='inner')"
   ]
  },
  {
   "cell_type": "code",
   "execution_count": 32,
   "metadata": {},
   "outputs": [
    {
     "data": {
      "image/png": "[encoded data removed]",
      "text/plain": [
       "<Figure size 576x576 with 1 Axes>"
      ]
     },
     "metadata": {
      "needs_background": "light"
     },
     "output_type": "display_data"
    }
   ],
   "source": [
    "viz.result_3(df_meta_final.rating_pred_1000)"
   ]
  },
  {
   "cell_type": "markdown",
   "metadata": {},
   "source": [
    "## Similarity\n",
    "We need to choose one game first.\n",
    "\n",
    "In real life, we would allow a customer to choose a game the customer actually rated, but the selected game can be anything to show the python code works to check the similarity."
   ]
  },
  {
   "cell_type": "code",
   "execution_count": 33,
   "metadata": {},
   "outputs": [
    {
     "data": {
      "text/plain": [
       "71500    Resident Evil 7 Biohazard - Xbox One\n",
       "Name: title, dtype: object"
      ]
     },
     "execution_count": 33,
     "metadata": {},
     "output_type": "execute_result"
    }
   ],
   "source": [
    "df_meta_final[df_meta_final.asin == 'B01GW8XLCM']['title']"
   ]
  },
  {
   "cell_type": "code",
   "execution_count": 34,
   "metadata": {},
   "outputs": [
    {
     "data": {
      "text/plain": [
       "Index(['pc', 'xbox', 'xbox360', 'xboxone', 'playstation', 'playstation2',\n",
       "       'playstation3', 'playstation4', 'cube', 'wii', 'switch', 'nintendo',\n",
       "       'accessories', '', 'electronicarts', 'activision', 'sony', 'ubisoft',\n",
       "       'sega', 'microsoft', 'atari', 'thq', 'konami', 'capcom', 'squareenix',\n",
       "       'madcatz', 'bandai', '2k', 'encore', 'generic', 'dreamgear', 'intec',\n",
       "       'vivamedia', 'vivendiuniversal', 'wbgames', 'skinit', 'unknown',\n",
       "       'wraptorskinz', 'modfreakz', 'midway', 'hori'],\n",
       "      dtype='object')"
      ]
     },
     "execution_count": 34,
     "metadata": {},
     "output_type": "execute_result"
    }
   ],
   "source": [
    "# relevant columns for similarity\n",
    "df_meta_final.columns[3:44]"
   ]
  },
  {
   "cell_type": "code",
   "execution_count": 35,
   "metadata": {},
   "outputs": [],
   "source": [
    "# Select a game\n",
    "test_index = df_meta_final[df_meta_final.asin == 'B01GW8XLCM'].index[0]\n",
    "len_meta = len(df_meta_final)\n",
    "\n",
    "# pick columns of console names and brand names\n",
    "df_matrix = df_meta_final[df_meta_final.columns[3:44]]\n",
    "# transpose before dot product\n",
    "df_matrix_t = df_matrix.T\n",
    "# product of selected game and whole matrix\n",
    "numerator = df_matrix_t[test_index].dot(df_matrix_t)\n",
    "\n",
    "# product of \n",
    "# sqrt of sum of all squared values for the selected game\n",
    "# and\n",
    "# sqrt of sum of all squared values for each game\n",
    "denominator = [np.sqrt(sum(df_matrix_t[test_index]**2)) * \\\n",
    "               np.sqrt(sum(df_matrix_t[i].map(lambda x: x**2))) for i in range(len_meta)]\n",
    "# change the list to a dataframe\n",
    "denom = pd.DataFrame(denominator, columns=['denom'])\n",
    "\n",
    "# combine numerator and denominator\n",
    "hybrid = pd.concat([numerator, denom], axis = 1)\n",
    "# Calculate similarity\n",
    "# The column name for numerator is test_index number\n",
    "# calculating cosine angle\n",
    "hybrid['similarity'] = hybrid[test_index] / hybrid.denom"
   ]
  },
  {
   "cell_type": "markdown",
   "metadata": {},
   "source": [
    "- 84% of games are excluded after checking similarity. 15+1 games were selected that has the best match with the selected game."
   ]
  },
  {
   "cell_type": "code",
   "execution_count": 36,
   "metadata": {},
   "outputs": [
    {
     "data": {
      "text/plain": [
       "0.000000    54262\n",
       "0.333333     3463\n",
       "0.666667     2280\n",
       "0.408248     2097\n",
       "0.577350     1358\n",
       "0.288675      890\n",
       "0.816497      336\n",
       "0.258199       98\n",
       "0.516398       39\n",
       "0.471405       37\n",
       "0.235702       25\n",
       "1.000000       16\n",
       "0.218218        8\n",
       "0.436436        4\n",
       "Name: similarity, dtype: int64"
      ]
     },
     "execution_count": 36,
     "metadata": {},
     "output_type": "execute_result"
    }
   ],
   "source": [
    "hybrid.similarity.value_counts()"
   ]
  },
  {
   "cell_type": "code",
   "execution_count": 37,
   "metadata": {},
   "outputs": [
    {
     "data": {
      "text/plain": [
       "0.000000    0.835919\n",
       "0.333333    0.053348\n",
       "0.666667    0.035124\n",
       "0.408248    0.032305\n",
       "0.577350    0.020920\n",
       "0.288675    0.013711\n",
       "0.816497    0.005176\n",
       "0.258199    0.001510\n",
       "0.516398    0.000601\n",
       "0.471405    0.000570\n",
       "0.235702    0.000385\n",
       "1.000000    0.000246\n",
       "0.218218    0.000123\n",
       "0.436436    0.000062\n",
       "Name: similarity, dtype: float64"
      ]
     },
     "execution_count": 37,
     "metadata": {},
     "output_type": "execute_result"
    }
   ],
   "source": [
    "hybrid.similarity.value_counts(normalize = True)"
   ]
  },
  {
   "cell_type": "markdown",
   "metadata": {},
   "source": [
    "# Result 2 - Trimmed List of Recommendation\n",
    "- Many of game names include \"resident evil\" and all have the same console information."
   ]
  },
  {
   "cell_type": "code",
   "execution_count": 38,
   "metadata": {},
   "outputs": [
    {
     "data": {
      "text/plain": [
       "array(['DMC Devil May Cry: Definitive Edition - Xbox One',\n",
       "       'Resident Evil 6 - Xbox One', 'Strider - Xbox One Digital Code',\n",
       "       'Resident Evil 7 Biohazard - Xbox One',\n",
       "       'Devil May Cry 4: Special Edition - Xbox One Digital Code',\n",
       "       'Resident Evil Origins Collection - Xbox One Standard Edition',\n",
       "       'Mega Man Statue &amp; E-Tank with Mega Man Legacy Collection Game - Xbox One Special Edition',\n",
       "       'Resident Evil 4', 'Resident Evil: Revelations 2 - Xbox One',\n",
       "       'Resident Evil Origins Collection (Xbox One) by Capcom'],\n",
       "      dtype=object)"
      ]
     },
     "execution_count": 38,
     "metadata": {},
     "output_type": "execute_result"
    }
   ],
   "source": [
    "# multiplay predicted rating with similarity\n",
    "df_meta_final['rating_pred_hybrid'] = df_meta_final.rating_pred_1000 * hybrid.similarity\n",
    "# print games with high similarity\n",
    "df_meta_final.sort_values(by = ['rating_pred_hybrid'], ascending = False)['title'].head(10).values"
   ]
  },
  {
   "cell_type": "markdown",
   "metadata": {},
   "source": [
    "The list below shows 10 of 16 games that have the perfect similarity."
   ]
  },
  {
   "cell_type": "code",
   "execution_count": 39,
   "metadata": {},
   "outputs": [
    {
     "name": "stdout",
     "output_type": "stream",
     "text": [
      "DMC Devil May Cry: Definitive Edition - Xbox One\n",
      "Resident Evil 6 - Xbox One\n",
      "Strider - Xbox One Digital Code\n",
      "Resident Evil 7 Biohazard - Xbox One\n",
      "Devil May Cry 4: Special Edition - Xbox One Digital Code\n",
      "Resident Evil Origins Collection - Xbox One Standard Edition\n",
      "Mega Man Statue &amp; E-Tank with Mega Man Legacy Collection Game - Xbox One Special Edition\n",
      "Resident Evil 4\n",
      "Resident Evil: Revelations 2 - Xbox One\n",
      "Resident Evil Origins Collection (Xbox One) by Capcom\n"
     ]
    }
   ],
   "source": [
    "title_list = df_meta_final.sort_values(by = ['rating_pred_hybrid'], ascending = False)['title'].head(10).values\n",
    "for tl in title_list:\n",
    "    print(tl)"
   ]
  },
  {
   "cell_type": "code",
   "execution_count": 40,
   "metadata": {},
   "outputs": [
    {
     "data": {
      "text/plain": [
       "array([5.        , 5.        , 5.        , 5.        , 5.        ,\n",
       "       5.        , 4.99590664, 4.90886169, 4.9072606 , 4.90483762])"
      ]
     },
     "execution_count": 40,
     "metadata": {},
     "output_type": "execute_result"
    }
   ],
   "source": [
    "df_meta_final.sort_values(by = ['rating_pred_hybrid'], ascending = False)['rating_pred_hybrid'].head(10).values"
   ]
  },
  {
   "cell_type": "markdown",
   "metadata": {},
   "source": [
    "# Conclusion\n",
    "\n",
    "- **More than 60% of customers are expected to get a different shopping experience from the personalized recommendation system built based on customers’ ratings on video games. We can expect an increase in sales of less popular games.**\n",
    "- **A list of many games with calculated ratings equal to or close to 5 can be trimmed using the similarity on one of the rated games.**\n",
    "\n",
    "## Next Steps\n",
    "Further analysis could improve the RMSE and trimming method.\n",
    "\n",
    "- **Control the data size:** A larger data size can improve the RMSE. As the data is up to the year 2018, we can just add more recent data. We can trim the data by removing customers with a low number ratings.\n",
    "- **Gather more information on video games:** With more information such as genre and release date, we can improve trimming a long list of recommendations.\n",
    "- If the analysis looks good, we can discuss where and how we can display the recommendations.\n",
    "- The whole analysis can be repeated with a small update on different departments."
   ]
  },
  {
   "cell_type": "code",
   "execution_count": null,
   "metadata": {},
   "outputs": [],
   "source": []
  }
 ],
 "metadata": {
  "kernelspec": {
   "display_name": "Python (learn-env)",
   "language": "python",
   "name": "learn-env"
  },
  "language_info": {
   "codemirror_mode": {
    "name": "ipython",
    "version": 3
   },
   "file_extension": ".py",
   "mimetype": "text/x-python",
   "name": "python",
   "nbconvert_exporter": "python",
   "pygments_lexer": "ipython3",
   "version": "3.8.5"
  }
 },
 "nbformat": 4,
 "nbformat_minor": 4
}
